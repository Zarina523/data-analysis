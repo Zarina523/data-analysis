{
  "nbformat": 4,
  "nbformat_minor": 0,
  "metadata": {
    "colab": {
      "name": "накрутки_ФОИВ.ipynb",
      "provenance": [],
      "collapsed_sections": []
    },
    "kernelspec": {
      "name": "python3",
      "display_name": "Python 3"
    },
    "language_info": {
      "name": "python"
    }
  },
  "cells": [
    {
      "cell_type": "markdown",
      "source": [
        "Итак, у нас есть данные с оценками услуг, предоставляемых Федеральными органами исполнительной власти"
      ],
      "metadata": {
        "id": "xHWoBobdUvNT"
      }
    },
    {
      "cell_type": "markdown",
      "source": [
        "https://docs.google.com/spreadsheets/d/1_IgEJ7giyc91pxCvJYxOUJk52seVpopt/edit#gid=2087179370 - ссылка на данные"
      ],
      "metadata": {
        "id": "Lw5rpWSTYT6Q"
      }
    },
    {
      "cell_type": "markdown",
      "source": [
        "Наша задача заключалась в том, чтобы выяснить, какие из ФОИВ накручивают себе отзывы"
      ],
      "metadata": {
        "id": "lv4AaJWIU-oQ"
      }
    },
    {
      "cell_type": "markdown",
      "source": [
        "https://datastudio.google.com/u/0/reporting/cfd316ca-a58d-40c2-96f7-5c2b7c1ecb77/page/ANghC - здесь мы построили диаграммы для понимания общего уровня удовлетворенности различными ФОИВ и предоставляемыми ими услугами"
      ],
      "metadata": {
        "id": "mnhmbHq2VUcx"
      }
    },
    {
      "cell_type": "markdown",
      "source": [
        "Подключаем нужные нам библиотеки для работы, скачиваем датасет"
      ],
      "metadata": {
        "id": "Sq4MuNjOD5Ve"
      }
    },
    {
      "cell_type": "code",
      "execution_count": null,
      "metadata": {
        "id": "ZhxcxKkfBvNc"
      },
      "outputs": [],
      "source": [
        "import pandas as pd\n",
        "import numpy as np\n",
        "from matplotlib import pyplot as plt\n",
        "import seaborn as sns\n",
        "from sklearn import preprocessing\n",
        "import scipy as sp\n",
        "import re\n",
        "import time\n",
        "import os\n",
        "import matplotlib as mpl\n",
        "mpl.rcParams.update(mpl.rcParamsDefault)"
      ]
    },
    {
      "cell_type": "code",
      "source": [
        "from google.colab import files\n",
        "uploaded = files.upload()"
      ],
      "metadata": {
        "colab": {
          "resources": {
            "http://localhost:8080/nbextensions/google.colab/files.js": {
              "data": "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",
              "ok": true,
              "headers": [
                [
                  "content-type",
                  "application/javascript"
                ]
              ],
              "status": 200,
              "status_text": ""
            }
          },
          "base_uri": "https://localhost:8080/",
          "height": 74
        },
        "id": "1UaATVUbEJkc",
        "outputId": "b98caf7d-c2d8-4214-a830-1e304594ce74"
      },
      "execution_count": null,
      "outputs": [
        {
          "output_type": "display_data",
          "data": {
            "text/html": [
              "\n",
              "     <input type=\"file\" id=\"files-895b262f-856a-4a38-8164-2984ddae9a84\" name=\"files[]\" multiple disabled\n",
              "        style=\"border:none\" />\n",
              "     <output id=\"result-895b262f-856a-4a38-8164-2984ddae9a84\">\n",
              "      Upload widget is only available when the cell has been executed in the\n",
              "      current browser session. Please rerun this cell to enable.\n",
              "      </output>\n",
              "      <script src=\"/nbextensions/google.colab/files.js\"></script> "
            ],
            "text/plain": [
              "<IPython.core.display.HTML object>"
            ]
          },
          "metadata": {}
        },
        {
          "output_type": "stream",
          "name": "stdout",
          "text": [
            "Saving Dataset.csv to Dataset.csv\n"
          ]
        }
      ]
    },
    {
      "cell_type": "markdown",
      "source": [
        "Загрузим данные из .csv файла и ознакомимся с данными:"
      ],
      "metadata": {
        "id": "yAHCiOlzD3wn"
      }
    },
    {
      "cell_type": "code",
      "source": [
        "data = pd.read_csv('Dataset.csv', low_memory=False)"
      ],
      "metadata": {
        "id": "6oIVummPEwW0"
      },
      "execution_count": null,
      "outputs": []
    },
    {
      "cell_type": "code",
      "source": [
        "data.head()"
      ],
      "metadata": {
        "colab": {
          "base_uri": "https://localhost:8080/",
          "height": 441
        },
        "id": "1GnADnScGKg9",
        "outputId": "5eeb58b8-ee87-4db1-f954-c316bd0267d4"
      },
      "execution_count": null,
      "outputs": [
        {
          "output_type": "execute_result",
          "data": {
            "text/html": [
              "\n",
              "  <div id=\"df-1d3581ac-94ab-42b8-a9ee-433b0827dc3a\">\n",
              "    <div class=\"colab-df-container\">\n",
              "      <div>\n",
              "<style scoped>\n",
              "    .dataframe tbody tr th:only-of-type {\n",
              "        vertical-align: middle;\n",
              "    }\n",
              "\n",
              "    .dataframe tbody tr th {\n",
              "        vertical-align: top;\n",
              "    }\n",
              "\n",
              "    .dataframe thead th {\n",
              "        text-align: right;\n",
              "    }\n",
              "</style>\n",
              "<table border=\"1\" class=\"dataframe\">\n",
              "  <thead>\n",
              "    <tr style=\"text-align: right;\">\n",
              "      <th></th>\n",
              "      <th>ФОИВ</th>\n",
              "      <th>Код ТО ФОИВ</th>\n",
              "      <th>ТО ФОИВ</th>\n",
              "      <th>Уод услуги</th>\n",
              "      <th>Услуга</th>\n",
              "      <th>Факты</th>\n",
              "      <th>Оценки</th>\n",
              "      <th>Уровень удовлетворенности</th>\n",
              "      <th>cnt_1</th>\n",
              "      <th>cnt_2</th>\n",
              "      <th>cnt_3</th>\n",
              "      <th>cnt_4</th>\n",
              "      <th>cnt_5</th>\n",
              "    </tr>\n",
              "  </thead>\n",
              "  <tbody>\n",
              "    <tr>\n",
              "      <th>0</th>\n",
              "      <td>Департамент по имущественным и земельным отнош...</td>\n",
              "      <td>9200000000162960901</td>\n",
              "      <td>Департамент по имущественным и земельным отнош...</td>\n",
              "      <td>9200000000167723419</td>\n",
              "      <td>Предварительное согласование предоставления зе...</td>\n",
              "      <td>1.0</td>\n",
              "      <td>2.0</td>\n",
              "      <td>0,00%</td>\n",
              "      <td>2.0</td>\n",
              "      <td>0.0</td>\n",
              "      <td>0.0</td>\n",
              "      <td>0.0</td>\n",
              "      <td>0.0</td>\n",
              "    </tr>\n",
              "    <tr>\n",
              "      <th>1</th>\n",
              "      <td>Главное управление потребительского рынка и ли...</td>\n",
              "      <td>9200000000162963760</td>\n",
              "      <td>Главное управление потребительского рынка и ли...</td>\n",
              "      <td>9200000000167690297</td>\n",
              "      <td>Государственная функция по осуществлению регио...</td>\n",
              "      <td>1.0</td>\n",
              "      <td>7.0</td>\n",
              "      <td>28,57%</td>\n",
              "      <td>1.0</td>\n",
              "      <td>0.0</td>\n",
              "      <td>0.0</td>\n",
              "      <td>0.0</td>\n",
              "      <td>2.0</td>\n",
              "    </tr>\n",
              "    <tr>\n",
              "      <th>2</th>\n",
              "      <td>Департамент здравоохранения Ямало-Ненецкого ав...</td>\n",
              "      <td>8900000000000003078</td>\n",
              "      <td>Департамент здравоохранения Ямало-Ненецкого ав...</td>\n",
              "      <td>8900400000000002972</td>\n",
              "      <td>Запись на прием к врачу в медицинскую организа...</td>\n",
              "      <td>3.0</td>\n",
              "      <td>15.0</td>\n",
              "      <td>6,67%</td>\n",
              "      <td>12.0</td>\n",
              "      <td>2.0</td>\n",
              "      <td>0.0</td>\n",
              "      <td>1.0</td>\n",
              "      <td>0.0</td>\n",
              "    </tr>\n",
              "    <tr>\n",
              "      <th>3</th>\n",
              "      <td>Департамент социальной защиты населения Ямало-...</td>\n",
              "      <td>8900000000000003124</td>\n",
              "      <td>Департамент социальной защиты населения Ямало-...</td>\n",
              "      <td>8900000010000025881</td>\n",
              "      <td>Выплата средств (части средств) материнского (...</td>\n",
              "      <td>514.0</td>\n",
              "      <td>2717.0</td>\n",
              "      <td>95,99%</td>\n",
              "      <td>42.0</td>\n",
              "      <td>28.0</td>\n",
              "      <td>39.0</td>\n",
              "      <td>70.0</td>\n",
              "      <td>2538.0</td>\n",
              "    </tr>\n",
              "    <tr>\n",
              "      <th>4</th>\n",
              "      <td>Служба записи актов гражданского состояния Яма...</td>\n",
              "      <td>8900000010000003335</td>\n",
              "      <td>Служба записи актов гражданского состояния Яма...</td>\n",
              "      <td>8900000010000004597</td>\n",
              "      <td>Выдача повторных свидетельств о государственно...</td>\n",
              "      <td>123.0</td>\n",
              "      <td>655.0</td>\n",
              "      <td>100,00%</td>\n",
              "      <td>0.0</td>\n",
              "      <td>0.0</td>\n",
              "      <td>0.0</td>\n",
              "      <td>6.0</td>\n",
              "      <td>649.0</td>\n",
              "    </tr>\n",
              "  </tbody>\n",
              "</table>\n",
              "</div>\n",
              "      <button class=\"colab-df-convert\" onclick=\"convertToInteractive('df-1d3581ac-94ab-42b8-a9ee-433b0827dc3a')\"\n",
              "              title=\"Convert this dataframe to an interactive table.\"\n",
              "              style=\"display:none;\">\n",
              "        \n",
              "  <svg xmlns=\"http://www.w3.org/2000/svg\" height=\"24px\"viewBox=\"0 0 24 24\"\n",
              "       width=\"24px\">\n",
              "    <path d=\"M0 0h24v24H0V0z\" fill=\"none\"/>\n",
              "    <path d=\"M18.56 5.44l.94 2.06.94-2.06 2.06-.94-2.06-.94-.94-2.06-.94 2.06-2.06.94zm-11 1L8.5 8.5l.94-2.06 2.06-.94-2.06-.94L8.5 2.5l-.94 2.06-2.06.94zm10 10l.94 2.06.94-2.06 2.06-.94-2.06-.94-.94-2.06-.94 2.06-2.06.94z\"/><path d=\"M17.41 7.96l-1.37-1.37c-.4-.4-.92-.59-1.43-.59-.52 0-1.04.2-1.43.59L10.3 9.45l-7.72 7.72c-.78.78-.78 2.05 0 2.83L4 21.41c.39.39.9.59 1.41.59.51 0 1.02-.2 1.41-.59l7.78-7.78 2.81-2.81c.8-.78.8-2.07 0-2.86zM5.41 20L4 18.59l7.72-7.72 1.47 1.35L5.41 20z\"/>\n",
              "  </svg>\n",
              "      </button>\n",
              "      \n",
              "  <style>\n",
              "    .colab-df-container {\n",
              "      display:flex;\n",
              "      flex-wrap:wrap;\n",
              "      gap: 12px;\n",
              "    }\n",
              "\n",
              "    .colab-df-convert {\n",
              "      background-color: #E8F0FE;\n",
              "      border: none;\n",
              "      border-radius: 50%;\n",
              "      cursor: pointer;\n",
              "      display: none;\n",
              "      fill: #1967D2;\n",
              "      height: 32px;\n",
              "      padding: 0 0 0 0;\n",
              "      width: 32px;\n",
              "    }\n",
              "\n",
              "    .colab-df-convert:hover {\n",
              "      background-color: #E2EBFA;\n",
              "      box-shadow: 0px 1px 2px rgba(60, 64, 67, 0.3), 0px 1px 3px 1px rgba(60, 64, 67, 0.15);\n",
              "      fill: #174EA6;\n",
              "    }\n",
              "\n",
              "    [theme=dark] .colab-df-convert {\n",
              "      background-color: #3B4455;\n",
              "      fill: #D2E3FC;\n",
              "    }\n",
              "\n",
              "    [theme=dark] .colab-df-convert:hover {\n",
              "      background-color: #434B5C;\n",
              "      box-shadow: 0px 1px 3px 1px rgba(0, 0, 0, 0.15);\n",
              "      filter: drop-shadow(0px 1px 2px rgba(0, 0, 0, 0.3));\n",
              "      fill: #FFFFFF;\n",
              "    }\n",
              "  </style>\n",
              "\n",
              "      <script>\n",
              "        const buttonEl =\n",
              "          document.querySelector('#df-1d3581ac-94ab-42b8-a9ee-433b0827dc3a button.colab-df-convert');\n",
              "        buttonEl.style.display =\n",
              "          google.colab.kernel.accessAllowed ? 'block' : 'none';\n",
              "\n",
              "        async function convertToInteractive(key) {\n",
              "          const element = document.querySelector('#df-1d3581ac-94ab-42b8-a9ee-433b0827dc3a');\n",
              "          const dataTable =\n",
              "            await google.colab.kernel.invokeFunction('convertToInteractive',\n",
              "                                                     [key], {});\n",
              "          if (!dataTable) return;\n",
              "\n",
              "          const docLinkHtml = 'Like what you see? Visit the ' +\n",
              "            '<a target=\"_blank\" href=https://colab.research.google.com/notebooks/data_table.ipynb>data table notebook</a>'\n",
              "            + ' to learn more about interactive tables.';\n",
              "          element.innerHTML = '';\n",
              "          dataTable['output_type'] = 'display_data';\n",
              "          await google.colab.output.renderOutput(dataTable, element);\n",
              "          const docLink = document.createElement('div');\n",
              "          docLink.innerHTML = docLinkHtml;\n",
              "          element.appendChild(docLink);\n",
              "        }\n",
              "      </script>\n",
              "    </div>\n",
              "  </div>\n",
              "  "
            ],
            "text/plain": [
              "                                                ФОИВ  ...   cnt_5\n",
              "0  Департамент по имущественным и земельным отнош...  ...     0.0\n",
              "1  Главное управление потребительского рынка и ли...  ...     2.0\n",
              "2  Департамент здравоохранения Ямало-Ненецкого ав...  ...     0.0\n",
              "3  Департамент социальной защиты населения Ямало-...  ...  2538.0\n",
              "4  Служба записи актов гражданского состояния Яма...  ...   649.0\n",
              "\n",
              "[5 rows x 13 columns]"
            ]
          },
          "metadata": {},
          "execution_count": 4
        }
      ]
    },
    {
      "cell_type": "markdown",
      "source": [
        "Расшифровка некоторых параметров датасета:"
      ],
      "metadata": {
        "id": "-bHl1C_GIUEJ"
      }
    },
    {
      "cell_type": "markdown",
      "source": [
        "|              \t|                                                                          \t|\n",
        "|:------------:\t|:-------------------------------------------------------------------------------:\t|\n",
        "| ФОИВ         \t| Федеральный орган исполнительной власти                              \t|\n",
        "| cnt_1    \t| количество оценок \"1\"                                       \t|\n",
        "| cnt_2     \t| количество оценок \"2\"                                        \t|\n",
        "| cnt_3    \t| количество оценок \"3\"                                                                  \t|\n",
        "| cnt_4     \t| количество оценок \"4\"                    \t|\n",
        "| cnt_5   \t| количество оценок \"5\"                                                          \t|\n",
        "| Оценки \t| общее количесиво оценок                                                     \t|\n",
        "| Уровень удовлетворенности      \t| процентное соотношение оценок \"4\" и \"5\" к общему числу оценок                                                \t|"
      ],
      "metadata": {
        "id": "pdFkGA9kG0Cl"
      }
    },
    {
      "cell_type": "code",
      "source": [
        "data.info()"
      ],
      "metadata": {
        "colab": {
          "base_uri": "https://localhost:8080/"
        },
        "id": "isiStclMIgf_",
        "outputId": "ab36a780-b54f-41be-8683-593efc41d66a"
      },
      "execution_count": null,
      "outputs": [
        {
          "output_type": "stream",
          "name": "stdout",
          "text": [
            "<class 'pandas.core.frame.DataFrame'>\n",
            "RangeIndex: 48787 entries, 0 to 48786\n",
            "Data columns (total 13 columns):\n",
            " #   Column                     Non-Null Count  Dtype  \n",
            "---  ------                     --------------  -----  \n",
            " 0   ФОИВ                       48787 non-null  object \n",
            " 1   Код ТО ФОИВ                48787 non-null  object \n",
            " 2   ТО ФОИВ                    48787 non-null  object \n",
            " 3   Уод услуги                 48787 non-null  object \n",
            " 4   Услуга                     48787 non-null  object \n",
            " 5   Факты                      48786 non-null  float64\n",
            " 6   Оценки                     48786 non-null  float64\n",
            " 7   Уровень удовлетворенности  48787 non-null  object \n",
            " 8   cnt_1                      48786 non-null  float64\n",
            " 9   cnt_2                      48786 non-null  float64\n",
            " 10  cnt_3                      48786 non-null  float64\n",
            " 11  cnt_4                      48786 non-null  float64\n",
            " 12  cnt_5                      48786 non-null  float64\n",
            "dtypes: float64(7), object(6)\n",
            "memory usage: 4.8+ MB\n"
          ]
        }
      ]
    },
    {
      "cell_type": "markdown",
      "source": [
        "Посмотрим на количество пропусков по столбцам:"
      ],
      "metadata": {
        "id": "rdD-9XfHWAOj"
      }
    },
    {
      "cell_type": "code",
      "source": [
        "data.isnull().sum()"
      ],
      "metadata": {
        "colab": {
          "base_uri": "https://localhost:8080/"
        },
        "id": "5nY7M1fXOQg7",
        "outputId": "84520789-eb43-402b-bcf4-662958f0d830"
      },
      "execution_count": null,
      "outputs": [
        {
          "output_type": "execute_result",
          "data": {
            "text/plain": [
              "ФОИВ                         0\n",
              "Код ТО ФОИВ                  0\n",
              "ТО ФОИВ                      0\n",
              "Уод услуги                   0\n",
              "Услуга                       0\n",
              "Факты                        1\n",
              "Оценки                       1\n",
              "Уровень удовлетворенности    0\n",
              "cnt_1                        1\n",
              "cnt_2                        1\n",
              "cnt_3                        1\n",
              "cnt_4                        1\n",
              "cnt_5                        1\n",
              "dtype: int64"
            ]
          },
          "metadata": {},
          "execution_count": 7
        }
      ]
    },
    {
      "cell_type": "markdown",
      "source": [
        "Удалим строку, в которой есть пропущенное значение:"
      ],
      "metadata": {
        "id": "rza4y7PsWKOu"
      }
    },
    {
      "cell_type": "code",
      "source": [
        "data['Факты'].replace('  ', np.nan, inplace=True)"
      ],
      "metadata": {
        "id": "jRKCNkT8Pobs"
      },
      "execution_count": null,
      "outputs": []
    },
    {
      "cell_type": "code",
      "source": [
        "data= data.dropna(subset=['Факты'])"
      ],
      "metadata": {
        "id": "WsjNE7iJPu0H"
      },
      "execution_count": null,
      "outputs": []
    },
    {
      "cell_type": "markdown",
      "source": [
        "Убедимся, что пропусков не осталось:"
      ],
      "metadata": {
        "id": "DX5ReacUWWdH"
      }
    },
    {
      "cell_type": "code",
      "source": [
        "data.isnull().sum()"
      ],
      "metadata": {
        "colab": {
          "base_uri": "https://localhost:8080/"
        },
        "id": "Dp_worA2P864",
        "outputId": "f2f37bb7-26bb-4766-8dac-618f48309fcd"
      },
      "execution_count": null,
      "outputs": [
        {
          "output_type": "execute_result",
          "data": {
            "text/plain": [
              "ФОИВ                         0\n",
              "Код ТО ФОИВ                  0\n",
              "ТО ФОИВ                      0\n",
              "Уод услуги                   0\n",
              "Услуга                       0\n",
              "Факты                        0\n",
              "Оценки                       0\n",
              "Уровень удовлетворенности    0\n",
              "cnt_1                        0\n",
              "cnt_2                        0\n",
              "cnt_3                        0\n",
              "cnt_4                        0\n",
              "cnt_5                        0\n",
              "dtype: int64"
            ]
          },
          "metadata": {},
          "execution_count": 10
        }
      ]
    },
    {
      "cell_type": "markdown",
      "source": [
        "Корреляция данных:"
      ],
      "metadata": {
        "id": "2om9cONYJlV5"
      }
    },
    {
      "cell_type": "code",
      "source": [
        "plt.figure(figsize=(20,10))\n",
        "sns.heatmap(data.corr())"
      ],
      "metadata": {
        "colab": {
          "base_uri": "https://localhost:8080/",
          "height": 614
        },
        "id": "uNrsc0-WJHSp",
        "outputId": "8bf11977-f556-4d1f-ffc3-866c05ccd204"
      },
      "execution_count": null,
      "outputs": [
        {
          "output_type": "execute_result",
          "data": {
            "text/plain": [
              "<matplotlib.axes._subplots.AxesSubplot at 0x7f6601756890>"
            ]
          },
          "metadata": {},
          "execution_count": 11
        },
        {
          "output_type": "display_data",
          "data": {
            "image/png": "[encoded data removed]",
            "text/plain": [
              "<Figure size 1440x720 with 2 Axes>"
            ]
          },
          "metadata": {
            "needs_background": "light"
          }
        }
      ]
    },
    {
      "cell_type": "markdown",
      "source": [
        "Видно, что количество оценок коррелирует с количеством оценок \"5\", значит, существует много ФОИВ, работу которых оценивают исключительно на 5. \n",
        "Реже всего же пользователи ставят оценку \"3\""
      ],
      "metadata": {
        "id": "kH3TLAfTJ4Wz"
      }
    },
    {
      "cell_type": "markdown",
      "source": [
        "И, вероятнее всего, данные, где все оценки являются оценками \"5\", были накручены"
      ],
      "metadata": {
        "id": "97uoTig1WeKc"
      }
    },
    {
      "cell_type": "markdown",
      "source": [
        "Будем считать 100% наивысших оценок аномально высоким показателем"
      ],
      "metadata": {
        "id": "Xz1XFk8DXZsB"
      }
    },
    {
      "cell_type": "markdown",
      "source": [
        "Уберем такие строки из нашего датафрейма"
      ],
      "metadata": {
        "id": "GCLKXtagZHZb"
      }
    },
    {
      "cell_type": "code",
      "source": [
        "df = data[data['Оценки'] != data['cnt_5']]\n",
        "df.head()"
      ],
      "metadata": {
        "colab": {
          "base_uri": "https://localhost:8080/",
          "height": 441
        },
        "id": "o28nVipnSzSt",
        "outputId": "54127a6c-0067-4ff9-e4b5-33f11c61f1f9"
      },
      "execution_count": null,
      "outputs": [
        {
          "output_type": "execute_result",
          "data": {
            "text/html": [
              "\n",
              "  <div id=\"df-aaf39e23-976d-48d0-8af1-9cff907fa8a2\">\n",
              "    <div class=\"colab-df-container\">\n",
              "      <div>\n",
              "<style scoped>\n",
              "    .dataframe tbody tr th:only-of-type {\n",
              "        vertical-align: middle;\n",
              "    }\n",
              "\n",
              "    .dataframe tbody tr th {\n",
              "        vertical-align: top;\n",
              "    }\n",
              "\n",
              "    .dataframe thead th {\n",
              "        text-align: right;\n",
              "    }\n",
              "</style>\n",
              "<table border=\"1\" class=\"dataframe\">\n",
              "  <thead>\n",
              "    <tr style=\"text-align: right;\">\n",
              "      <th></th>\n",
              "      <th>ФОИВ</th>\n",
              "      <th>Код ТО ФОИВ</th>\n",
              "      <th>ТО ФОИВ</th>\n",
              "      <th>Уод услуги</th>\n",
              "      <th>Услуга</th>\n",
              "      <th>Факты</th>\n",
              "      <th>Оценки</th>\n",
              "      <th>Уровень удовлетворенности</th>\n",
              "      <th>cnt_1</th>\n",
              "      <th>cnt_2</th>\n",
              "      <th>cnt_3</th>\n",
              "      <th>cnt_4</th>\n",
              "      <th>cnt_5</th>\n",
              "    </tr>\n",
              "  </thead>\n",
              "  <tbody>\n",
              "    <tr>\n",
              "      <th>0</th>\n",
              "      <td>Департамент по имущественным и земельным отнош...</td>\n",
              "      <td>9200000000162960901</td>\n",
              "      <td>Департамент по имущественным и земельным отнош...</td>\n",
              "      <td>9200000000167723419</td>\n",
              "      <td>Предварительное согласование предоставления зе...</td>\n",
              "      <td>1.0</td>\n",
              "      <td>2.0</td>\n",
              "      <td>0,00%</td>\n",
              "      <td>2.0</td>\n",
              "      <td>0.0</td>\n",
              "      <td>0.0</td>\n",
              "      <td>0.0</td>\n",
              "      <td>0.0</td>\n",
              "    </tr>\n",
              "    <tr>\n",
              "      <th>1</th>\n",
              "      <td>Главное управление потребительского рынка и ли...</td>\n",
              "      <td>9200000000162963760</td>\n",
              "      <td>Главное управление потребительского рынка и ли...</td>\n",
              "      <td>9200000000167690297</td>\n",
              "      <td>Государственная функция по осуществлению регио...</td>\n",
              "      <td>1.0</td>\n",
              "      <td>7.0</td>\n",
              "      <td>28,57%</td>\n",
              "      <td>1.0</td>\n",
              "      <td>0.0</td>\n",
              "      <td>0.0</td>\n",
              "      <td>0.0</td>\n",
              "      <td>2.0</td>\n",
              "    </tr>\n",
              "    <tr>\n",
              "      <th>2</th>\n",
              "      <td>Департамент здравоохранения Ямало-Ненецкого ав...</td>\n",
              "      <td>8900000000000003078</td>\n",
              "      <td>Департамент здравоохранения Ямало-Ненецкого ав...</td>\n",
              "      <td>8900400000000002972</td>\n",
              "      <td>Запись на прием к врачу в медицинскую организа...</td>\n",
              "      <td>3.0</td>\n",
              "      <td>15.0</td>\n",
              "      <td>6,67%</td>\n",
              "      <td>12.0</td>\n",
              "      <td>2.0</td>\n",
              "      <td>0.0</td>\n",
              "      <td>1.0</td>\n",
              "      <td>0.0</td>\n",
              "    </tr>\n",
              "    <tr>\n",
              "      <th>3</th>\n",
              "      <td>Департамент социальной защиты населения Ямало-...</td>\n",
              "      <td>8900000000000003124</td>\n",
              "      <td>Департамент социальной защиты населения Ямало-...</td>\n",
              "      <td>8900000010000025881</td>\n",
              "      <td>Выплата средств (части средств) материнского (...</td>\n",
              "      <td>514.0</td>\n",
              "      <td>2717.0</td>\n",
              "      <td>95,99%</td>\n",
              "      <td>42.0</td>\n",
              "      <td>28.0</td>\n",
              "      <td>39.0</td>\n",
              "      <td>70.0</td>\n",
              "      <td>2538.0</td>\n",
              "    </tr>\n",
              "    <tr>\n",
              "      <th>4</th>\n",
              "      <td>Служба записи актов гражданского состояния Яма...</td>\n",
              "      <td>8900000010000003335</td>\n",
              "      <td>Служба записи актов гражданского состояния Яма...</td>\n",
              "      <td>8900000010000004597</td>\n",
              "      <td>Выдача повторных свидетельств о государственно...</td>\n",
              "      <td>123.0</td>\n",
              "      <td>655.0</td>\n",
              "      <td>100,00%</td>\n",
              "      <td>0.0</td>\n",
              "      <td>0.0</td>\n",
              "      <td>0.0</td>\n",
              "      <td>6.0</td>\n",
              "      <td>649.0</td>\n",
              "    </tr>\n",
              "  </tbody>\n",
              "</table>\n",
              "</div>\n",
              "      <button class=\"colab-df-convert\" onclick=\"convertToInteractive('df-aaf39e23-976d-48d0-8af1-9cff907fa8a2')\"\n",
              "              title=\"Convert this dataframe to an interactive table.\"\n",
              "              style=\"display:none;\">\n",
              "        \n",
              "  <svg xmlns=\"http://www.w3.org/2000/svg\" height=\"24px\"viewBox=\"0 0 24 24\"\n",
              "       width=\"24px\">\n",
              "    <path d=\"M0 0h24v24H0V0z\" fill=\"none\"/>\n",
              "    <path d=\"M18.56 5.44l.94 2.06.94-2.06 2.06-.94-2.06-.94-.94-2.06-.94 2.06-2.06.94zm-11 1L8.5 8.5l.94-2.06 2.06-.94-2.06-.94L8.5 2.5l-.94 2.06-2.06.94zm10 10l.94 2.06.94-2.06 2.06-.94-2.06-.94-.94-2.06-.94 2.06-2.06.94z\"/><path d=\"M17.41 7.96l-1.37-1.37c-.4-.4-.92-.59-1.43-.59-.52 0-1.04.2-1.43.59L10.3 9.45l-7.72 7.72c-.78.78-.78 2.05 0 2.83L4 21.41c.39.39.9.59 1.41.59.51 0 1.02-.2 1.41-.59l7.78-7.78 2.81-2.81c.8-.78.8-2.07 0-2.86zM5.41 20L4 18.59l7.72-7.72 1.47 1.35L5.41 20z\"/>\n",
              "  </svg>\n",
              "      </button>\n",
              "      \n",
              "  <style>\n",
              "    .colab-df-container {\n",
              "      display:flex;\n",
              "      flex-wrap:wrap;\n",
              "      gap: 12px;\n",
              "    }\n",
              "\n",
              "    .colab-df-convert {\n",
              "      background-color: #E8F0FE;\n",
              "      border: none;\n",
              "      border-radius: 50%;\n",
              "      cursor: pointer;\n",
              "      display: none;\n",
              "      fill: #1967D2;\n",
              "      height: 32px;\n",
              "      padding: 0 0 0 0;\n",
              "      width: 32px;\n",
              "    }\n",
              "\n",
              "    .colab-df-convert:hover {\n",
              "      background-color: #E2EBFA;\n",
              "      box-shadow: 0px 1px 2px rgba(60, 64, 67, 0.3), 0px 1px 3px 1px rgba(60, 64, 67, 0.15);\n",
              "      fill: #174EA6;\n",
              "    }\n",
              "\n",
              "    [theme=dark] .colab-df-convert {\n",
              "      background-color: #3B4455;\n",
              "      fill: #D2E3FC;\n",
              "    }\n",
              "\n",
              "    [theme=dark] .colab-df-convert:hover {\n",
              "      background-color: #434B5C;\n",
              "      box-shadow: 0px 1px 3px 1px rgba(0, 0, 0, 0.15);\n",
              "      filter: drop-shadow(0px 1px 2px rgba(0, 0, 0, 0.3));\n",
              "      fill: #FFFFFF;\n",
              "    }\n",
              "  </style>\n",
              "\n",
              "      <script>\n",
              "        const buttonEl =\n",
              "          document.querySelector('#df-aaf39e23-976d-48d0-8af1-9cff907fa8a2 button.colab-df-convert');\n",
              "        buttonEl.style.display =\n",
              "          google.colab.kernel.accessAllowed ? 'block' : 'none';\n",
              "\n",
              "        async function convertToInteractive(key) {\n",
              "          const element = document.querySelector('#df-aaf39e23-976d-48d0-8af1-9cff907fa8a2');\n",
              "          const dataTable =\n",
              "            await google.colab.kernel.invokeFunction('convertToInteractive',\n",
              "                                                     [key], {});\n",
              "          if (!dataTable) return;\n",
              "\n",
              "          const docLinkHtml = 'Like what you see? Visit the ' +\n",
              "            '<a target=\"_blank\" href=https://colab.research.google.com/notebooks/data_table.ipynb>data table notebook</a>'\n",
              "            + ' to learn more about interactive tables.';\n",
              "          element.innerHTML = '';\n",
              "          dataTable['output_type'] = 'display_data';\n",
              "          await google.colab.output.renderOutput(dataTable, element);\n",
              "          const docLink = document.createElement('div');\n",
              "          docLink.innerHTML = docLinkHtml;\n",
              "          element.appendChild(docLink);\n",
              "        }\n",
              "      </script>\n",
              "    </div>\n",
              "  </div>\n",
              "  "
            ],
            "text/plain": [
              "                                                ФОИВ  ...   cnt_5\n",
              "0  Департамент по имущественным и земельным отнош...  ...     0.0\n",
              "1  Главное управление потребительского рынка и ли...  ...     2.0\n",
              "2  Департамент здравоохранения Ямало-Ненецкого ав...  ...     0.0\n",
              "3  Департамент социальной защиты населения Ямало-...  ...  2538.0\n",
              "4  Служба записи актов гражданского состояния Яма...  ...   649.0\n",
              "\n",
              "[5 rows x 13 columns]"
            ]
          },
          "metadata": {},
          "execution_count": 12
        }
      ]
    },
    {
      "cell_type": "code",
      "source": [
        "df.info()"
      ],
      "metadata": {
        "colab": {
          "base_uri": "https://localhost:8080/"
        },
        "id": "OrheXz7uTmpv",
        "outputId": "76356462-f021-49f3-c1ef-794e38e8e6a1"
      },
      "execution_count": null,
      "outputs": [
        {
          "output_type": "stream",
          "name": "stdout",
          "text": [
            "<class 'pandas.core.frame.DataFrame'>\n",
            "Int64Index: 23200 entries, 0 to 48785\n",
            "Data columns (total 13 columns):\n",
            " #   Column                     Non-Null Count  Dtype  \n",
            "---  ------                     --------------  -----  \n",
            " 0   ФОИВ                       23200 non-null  object \n",
            " 1   Код ТО ФОИВ                23200 non-null  object \n",
            " 2   ТО ФОИВ                    23200 non-null  object \n",
            " 3   Уод услуги                 23200 non-null  object \n",
            " 4   Услуга                     23200 non-null  object \n",
            " 5   Факты                      23200 non-null  float64\n",
            " 6   Оценки                     23200 non-null  float64\n",
            " 7   Уровень удовлетворенности  23200 non-null  object \n",
            " 8   cnt_1                      23200 non-null  float64\n",
            " 9   cnt_2                      23200 non-null  float64\n",
            " 10  cnt_3                      23200 non-null  float64\n",
            " 11  cnt_4                      23200 non-null  float64\n",
            " 12  cnt_5                      23200 non-null  float64\n",
            "dtypes: float64(7), object(6)\n",
            "memory usage: 2.5+ MB\n"
          ]
        }
      ]
    },
    {
      "cell_type": "markdown",
      "source": [
        "Также, вероятнее всего, накрутокой являются те строки, в которых сумма оценок \"1\" и \"5\" равно общему количеству оценок данной услуги"
      ],
      "metadata": {
        "id": "AD1e8VDGHF9t"
      }
    },
    {
      "cell_type": "markdown",
      "source": [
        "Странно, что одну и ту же услугу в одном и том же месте пользователи оценивают так полярно, причем не ставя оценки \"2\", \"3\" и \"4\""
      ],
      "metadata": {
        "id": "Lv4zUAoFHbXK"
      }
    },
    {
      "cell_type": "markdown",
      "source": [
        "Найдем такие строки:"
      ],
      "metadata": {
        "id": "dHwfijFAH7fC"
      }
    },
    {
      "cell_type": "code",
      "source": [
        "df_n = df[df['Оценки'] == df['cnt_5'] + df['cnt_1']]\n",
        "df_tn = df_n[df_n['Оценки'] != df_n['cnt_1']]\n",
        "df_tn.head()"
      ],
      "metadata": {
        "colab": {
          "base_uri": "https://localhost:8080/",
          "height": 476
        },
        "id": "HILchGjRZBtr",
        "outputId": "b36893a3-805a-4411-bd33-01662369fedb"
      },
      "execution_count": null,
      "outputs": [
        {
          "output_type": "execute_result",
          "data": {
            "text/html": [
              "\n",
              "  <div id=\"df-57bdabf5-7e45-485a-a62a-4cad13c866aa\">\n",
              "    <div class=\"colab-df-container\">\n",
              "      <div>\n",
              "<style scoped>\n",
              "    .dataframe tbody tr th:only-of-type {\n",
              "        vertical-align: middle;\n",
              "    }\n",
              "\n",
              "    .dataframe tbody tr th {\n",
              "        vertical-align: top;\n",
              "    }\n",
              "\n",
              "    .dataframe thead th {\n",
              "        text-align: right;\n",
              "    }\n",
              "</style>\n",
              "<table border=\"1\" class=\"dataframe\">\n",
              "  <thead>\n",
              "    <tr style=\"text-align: right;\">\n",
              "      <th></th>\n",
              "      <th>ФОИВ</th>\n",
              "      <th>Код ТО ФОИВ</th>\n",
              "      <th>ТО ФОИВ</th>\n",
              "      <th>Уод услуги</th>\n",
              "      <th>Услуга</th>\n",
              "      <th>Факты</th>\n",
              "      <th>Оценки</th>\n",
              "      <th>Уровень удовлетворенности</th>\n",
              "      <th>cnt_1</th>\n",
              "      <th>cnt_2</th>\n",
              "      <th>cnt_3</th>\n",
              "      <th>cnt_4</th>\n",
              "      <th>cnt_5</th>\n",
              "    </tr>\n",
              "  </thead>\n",
              "  <tbody>\n",
              "    <tr>\n",
              "      <th>48</th>\n",
              "      <td>Департамент социальной защиты населения Ямало-...</td>\n",
              "      <td>8900000000000003124</td>\n",
              "      <td>Департамент социальной защиты населения Ямало-...</td>\n",
              "      <td>8900000000162378272</td>\n",
              "      <td>Назначение и выплата пособия по беременности и...</td>\n",
              "      <td>6.0</td>\n",
              "      <td>27.0</td>\n",
              "      <td>88,89%</td>\n",
              "      <td>3.0</td>\n",
              "      <td>0.0</td>\n",
              "      <td>0.0</td>\n",
              "      <td>0.0</td>\n",
              "      <td>24.0</td>\n",
              "    </tr>\n",
              "    <tr>\n",
              "      <th>50</th>\n",
              "      <td>Департамент социальной защиты населения Ямало-...</td>\n",
              "      <td>8900000000000003124</td>\n",
              "      <td>Департамент социальной защиты населения Ямало-...</td>\n",
              "      <td>8900000000162378252</td>\n",
              "      <td>Оформление и выдача удостоверений члена семьи ...</td>\n",
              "      <td>4.0</td>\n",
              "      <td>23.0</td>\n",
              "      <td>73,91%</td>\n",
              "      <td>6.0</td>\n",
              "      <td>0.0</td>\n",
              "      <td>0.0</td>\n",
              "      <td>0.0</td>\n",
              "      <td>17.0</td>\n",
              "    </tr>\n",
              "    <tr>\n",
              "      <th>64</th>\n",
              "      <td>Администрация города Новый Уренгой</td>\n",
              "      <td>8900000000160105131</td>\n",
              "      <td>Администрация города Новый Уренгой</td>\n",
              "      <td>8900000000160819022</td>\n",
              "      <td>Выдача разрешений на ввод объектов в эксплуатацию</td>\n",
              "      <td>3.0</td>\n",
              "      <td>9.0</td>\n",
              "      <td>66,67%</td>\n",
              "      <td>3.0</td>\n",
              "      <td>0.0</td>\n",
              "      <td>0.0</td>\n",
              "      <td>0.0</td>\n",
              "      <td>6.0</td>\n",
              "    </tr>\n",
              "    <tr>\n",
              "      <th>84</th>\n",
              "      <td>Департамент социальной защиты населения Ямало-...</td>\n",
              "      <td>8900000000000003124</td>\n",
              "      <td>Департамент социальной защиты населения Ямало-...</td>\n",
              "      <td>8900000000000002546</td>\n",
              "      <td>Оформление и выдача удостоверений гражданам, п...</td>\n",
              "      <td>19.0</td>\n",
              "      <td>95.0</td>\n",
              "      <td>93,68%</td>\n",
              "      <td>6.0</td>\n",
              "      <td>0.0</td>\n",
              "      <td>0.0</td>\n",
              "      <td>0.0</td>\n",
              "      <td>89.0</td>\n",
              "    </tr>\n",
              "    <tr>\n",
              "      <th>124</th>\n",
              "      <td>Комитет архитектуры и градостроительства админ...</td>\n",
              "      <td>8600000010000304203</td>\n",
              "      <td>Комитет архитектуры и градостроительства админ...</td>\n",
              "      <td>8600000010005733461</td>\n",
              "      <td>Выдача разрешения на ввод объекта в эксплуатац...</td>\n",
              "      <td>2.0</td>\n",
              "      <td>4.0</td>\n",
              "      <td>75,00%</td>\n",
              "      <td>1.0</td>\n",
              "      <td>0.0</td>\n",
              "      <td>0.0</td>\n",
              "      <td>0.0</td>\n",
              "      <td>3.0</td>\n",
              "    </tr>\n",
              "  </tbody>\n",
              "</table>\n",
              "</div>\n",
              "      <button class=\"colab-df-convert\" onclick=\"convertToInteractive('df-57bdabf5-7e45-485a-a62a-4cad13c866aa')\"\n",
              "              title=\"Convert this dataframe to an interactive table.\"\n",
              "              style=\"display:none;\">\n",
              "        \n",
              "  <svg xmlns=\"http://www.w3.org/2000/svg\" height=\"24px\"viewBox=\"0 0 24 24\"\n",
              "       width=\"24px\">\n",
              "    <path d=\"M0 0h24v24H0V0z\" fill=\"none\"/>\n",
              "    <path d=\"M18.56 5.44l.94 2.06.94-2.06 2.06-.94-2.06-.94-.94-2.06-.94 2.06-2.06.94zm-11 1L8.5 8.5l.94-2.06 2.06-.94-2.06-.94L8.5 2.5l-.94 2.06-2.06.94zm10 10l.94 2.06.94-2.06 2.06-.94-2.06-.94-.94-2.06-.94 2.06-2.06.94z\"/><path d=\"M17.41 7.96l-1.37-1.37c-.4-.4-.92-.59-1.43-.59-.52 0-1.04.2-1.43.59L10.3 9.45l-7.72 7.72c-.78.78-.78 2.05 0 2.83L4 21.41c.39.39.9.59 1.41.59.51 0 1.02-.2 1.41-.59l7.78-7.78 2.81-2.81c.8-.78.8-2.07 0-2.86zM5.41 20L4 18.59l7.72-7.72 1.47 1.35L5.41 20z\"/>\n",
              "  </svg>\n",
              "      </button>\n",
              "      \n",
              "  <style>\n",
              "    .colab-df-container {\n",
              "      display:flex;\n",
              "      flex-wrap:wrap;\n",
              "      gap: 12px;\n",
              "    }\n",
              "\n",
              "    .colab-df-convert {\n",
              "      background-color: #E8F0FE;\n",
              "      border: none;\n",
              "      border-radius: 50%;\n",
              "      cursor: pointer;\n",
              "      display: none;\n",
              "      fill: #1967D2;\n",
              "      height: 32px;\n",
              "      padding: 0 0 0 0;\n",
              "      width: 32px;\n",
              "    }\n",
              "\n",
              "    .colab-df-convert:hover {\n",
              "      background-color: #E2EBFA;\n",
              "      box-shadow: 0px 1px 2px rgba(60, 64, 67, 0.3), 0px 1px 3px 1px rgba(60, 64, 67, 0.15);\n",
              "      fill: #174EA6;\n",
              "    }\n",
              "\n",
              "    [theme=dark] .colab-df-convert {\n",
              "      background-color: #3B4455;\n",
              "      fill: #D2E3FC;\n",
              "    }\n",
              "\n",
              "    [theme=dark] .colab-df-convert:hover {\n",
              "      background-color: #434B5C;\n",
              "      box-shadow: 0px 1px 3px 1px rgba(0, 0, 0, 0.15);\n",
              "      filter: drop-shadow(0px 1px 2px rgba(0, 0, 0, 0.3));\n",
              "      fill: #FFFFFF;\n",
              "    }\n",
              "  </style>\n",
              "\n",
              "      <script>\n",
              "        const buttonEl =\n",
              "          document.querySelector('#df-57bdabf5-7e45-485a-a62a-4cad13c866aa button.colab-df-convert');\n",
              "        buttonEl.style.display =\n",
              "          google.colab.kernel.accessAllowed ? 'block' : 'none';\n",
              "\n",
              "        async function convertToInteractive(key) {\n",
              "          const element = document.querySelector('#df-57bdabf5-7e45-485a-a62a-4cad13c866aa');\n",
              "          const dataTable =\n",
              "            await google.colab.kernel.invokeFunction('convertToInteractive',\n",
              "                                                     [key], {});\n",
              "          if (!dataTable) return;\n",
              "\n",
              "          const docLinkHtml = 'Like what you see? Visit the ' +\n",
              "            '<a target=\"_blank\" href=https://colab.research.google.com/notebooks/data_table.ipynb>data table notebook</a>'\n",
              "            + ' to learn more about interactive tables.';\n",
              "          element.innerHTML = '';\n",
              "          dataTable['output_type'] = 'display_data';\n",
              "          await google.colab.output.renderOutput(dataTable, element);\n",
              "          const docLink = document.createElement('div');\n",
              "          docLink.innerHTML = docLinkHtml;\n",
              "          element.appendChild(docLink);\n",
              "        }\n",
              "      </script>\n",
              "    </div>\n",
              "  </div>\n",
              "  "
            ],
            "text/plain": [
              "                                                  ФОИВ  ... cnt_5\n",
              "48   Департамент социальной защиты населения Ямало-...  ...  24.0\n",
              "50   Департамент социальной защиты населения Ямало-...  ...  17.0\n",
              "64                  Администрация города Новый Уренгой  ...   6.0\n",
              "84   Департамент социальной защиты населения Ямало-...  ...  89.0\n",
              "124  Комитет архитектуры и градостроительства админ...  ...   3.0\n",
              "\n",
              "[5 rows x 13 columns]"
            ]
          },
          "metadata": {},
          "execution_count": 14
        }
      ]
    },
    {
      "cell_type": "code",
      "source": [
        "df_tn.info()"
      ],
      "metadata": {
        "colab": {
          "base_uri": "https://localhost:8080/"
        },
        "id": "jWLbsG9sfHUj",
        "outputId": "86eaf69f-7797-4f0d-a4e2-027d02fad920"
      },
      "execution_count": null,
      "outputs": [
        {
          "output_type": "stream",
          "name": "stdout",
          "text": [
            "<class 'pandas.core.frame.DataFrame'>\n",
            "Int64Index: 1269 entries, 48 to 48745\n",
            "Data columns (total 13 columns):\n",
            " #   Column                     Non-Null Count  Dtype  \n",
            "---  ------                     --------------  -----  \n",
            " 0   ФОИВ                       1269 non-null   object \n",
            " 1   Код ТО ФОИВ                1269 non-null   object \n",
            " 2   ТО ФОИВ                    1269 non-null   object \n",
            " 3   Уод услуги                 1269 non-null   object \n",
            " 4   Услуга                     1269 non-null   object \n",
            " 5   Факты                      1269 non-null   float64\n",
            " 6   Оценки                     1269 non-null   float64\n",
            " 7   Уровень удовлетворенности  1269 non-null   object \n",
            " 8   cnt_1                      1269 non-null   float64\n",
            " 9   cnt_2                      1269 non-null   float64\n",
            " 10  cnt_3                      1269 non-null   float64\n",
            " 11  cnt_4                      1269 non-null   float64\n",
            " 12  cnt_5                      1269 non-null   float64\n",
            "dtypes: float64(7), object(6)\n",
            "memory usage: 138.8+ KB\n"
          ]
        }
      ]
    },
    {
      "cell_type": "markdown",
      "source": [
        "Их оказалось 1269, уберем их из нашего датафрейма:"
      ],
      "metadata": {
        "id": "f94ESgSDIBom"
      }
    },
    {
      "cell_type": "code",
      "source": [
        "df = df[df['Оценки'] != df['cnt_5'] + df['cnt_1']]\n",
        "df.head()"
      ],
      "metadata": {
        "colab": {
          "base_uri": "https://localhost:8080/",
          "height": 441
        },
        "id": "QjoyRfujGVpi",
        "outputId": "4d31e8d6-3b29-40d2-b4c1-df1594bb3af6"
      },
      "execution_count": null,
      "outputs": [
        {
          "output_type": "execute_result",
          "data": {
            "text/html": [
              "\n",
              "  <div id=\"df-51fcf857-0fce-47b5-98d4-2b47c2340df7\">\n",
              "    <div class=\"colab-df-container\">\n",
              "      <div>\n",
              "<style scoped>\n",
              "    .dataframe tbody tr th:only-of-type {\n",
              "        vertical-align: middle;\n",
              "    }\n",
              "\n",
              "    .dataframe tbody tr th {\n",
              "        vertical-align: top;\n",
              "    }\n",
              "\n",
              "    .dataframe thead th {\n",
              "        text-align: right;\n",
              "    }\n",
              "</style>\n",
              "<table border=\"1\" class=\"dataframe\">\n",
              "  <thead>\n",
              "    <tr style=\"text-align: right;\">\n",
              "      <th></th>\n",
              "      <th>ФОИВ</th>\n",
              "      <th>Код ТО ФОИВ</th>\n",
              "      <th>ТО ФОИВ</th>\n",
              "      <th>Уод услуги</th>\n",
              "      <th>Услуга</th>\n",
              "      <th>Факты</th>\n",
              "      <th>Оценки</th>\n",
              "      <th>Уровень удовлетворенности</th>\n",
              "      <th>cnt_1</th>\n",
              "      <th>cnt_2</th>\n",
              "      <th>cnt_3</th>\n",
              "      <th>cnt_4</th>\n",
              "      <th>cnt_5</th>\n",
              "    </tr>\n",
              "  </thead>\n",
              "  <tbody>\n",
              "    <tr>\n",
              "      <th>1</th>\n",
              "      <td>Главное управление потребительского рынка и ли...</td>\n",
              "      <td>9200000000162963760</td>\n",
              "      <td>Главное управление потребительского рынка и ли...</td>\n",
              "      <td>9200000000167690297</td>\n",
              "      <td>Государственная функция по осуществлению регио...</td>\n",
              "      <td>1.0</td>\n",
              "      <td>7.0</td>\n",
              "      <td>28,57%</td>\n",
              "      <td>1.0</td>\n",
              "      <td>0.0</td>\n",
              "      <td>0.0</td>\n",
              "      <td>0.0</td>\n",
              "      <td>2.0</td>\n",
              "    </tr>\n",
              "    <tr>\n",
              "      <th>2</th>\n",
              "      <td>Департамент здравоохранения Ямало-Ненецкого ав...</td>\n",
              "      <td>8900000000000003078</td>\n",
              "      <td>Департамент здравоохранения Ямало-Ненецкого ав...</td>\n",
              "      <td>8900400000000002972</td>\n",
              "      <td>Запись на прием к врачу в медицинскую организа...</td>\n",
              "      <td>3.0</td>\n",
              "      <td>15.0</td>\n",
              "      <td>6,67%</td>\n",
              "      <td>12.0</td>\n",
              "      <td>2.0</td>\n",
              "      <td>0.0</td>\n",
              "      <td>1.0</td>\n",
              "      <td>0.0</td>\n",
              "    </tr>\n",
              "    <tr>\n",
              "      <th>3</th>\n",
              "      <td>Департамент социальной защиты населения Ямало-...</td>\n",
              "      <td>8900000000000003124</td>\n",
              "      <td>Департамент социальной защиты населения Ямало-...</td>\n",
              "      <td>8900000010000025881</td>\n",
              "      <td>Выплата средств (части средств) материнского (...</td>\n",
              "      <td>514.0</td>\n",
              "      <td>2717.0</td>\n",
              "      <td>95,99%</td>\n",
              "      <td>42.0</td>\n",
              "      <td>28.0</td>\n",
              "      <td>39.0</td>\n",
              "      <td>70.0</td>\n",
              "      <td>2538.0</td>\n",
              "    </tr>\n",
              "    <tr>\n",
              "      <th>4</th>\n",
              "      <td>Служба записи актов гражданского состояния Яма...</td>\n",
              "      <td>8900000010000003335</td>\n",
              "      <td>Служба записи актов гражданского состояния Яма...</td>\n",
              "      <td>8900000010000004597</td>\n",
              "      <td>Выдача повторных свидетельств о государственно...</td>\n",
              "      <td>123.0</td>\n",
              "      <td>655.0</td>\n",
              "      <td>100,00%</td>\n",
              "      <td>0.0</td>\n",
              "      <td>0.0</td>\n",
              "      <td>0.0</td>\n",
              "      <td>6.0</td>\n",
              "      <td>649.0</td>\n",
              "    </tr>\n",
              "    <tr>\n",
              "      <th>5</th>\n",
              "      <td>Департамент здравоохранения Ямало-Ненецкого ав...</td>\n",
              "      <td>8900000000000003078</td>\n",
              "      <td>Департамент здравоохранения Ямало-Ненецкого ав...</td>\n",
              "      <td>8900000010000004595</td>\n",
              "      <td>Лицензирование (в части предоставления и перео...</td>\n",
              "      <td>1.0</td>\n",
              "      <td>7.0</td>\n",
              "      <td>28,57%</td>\n",
              "      <td>1.0</td>\n",
              "      <td>0.0</td>\n",
              "      <td>0.0</td>\n",
              "      <td>0.0</td>\n",
              "      <td>2.0</td>\n",
              "    </tr>\n",
              "  </tbody>\n",
              "</table>\n",
              "</div>\n",
              "      <button class=\"colab-df-convert\" onclick=\"convertToInteractive('df-51fcf857-0fce-47b5-98d4-2b47c2340df7')\"\n",
              "              title=\"Convert this dataframe to an interactive table.\"\n",
              "              style=\"display:none;\">\n",
              "        \n",
              "  <svg xmlns=\"http://www.w3.org/2000/svg\" height=\"24px\"viewBox=\"0 0 24 24\"\n",
              "       width=\"24px\">\n",
              "    <path d=\"M0 0h24v24H0V0z\" fill=\"none\"/>\n",
              "    <path d=\"M18.56 5.44l.94 2.06.94-2.06 2.06-.94-2.06-.94-.94-2.06-.94 2.06-2.06.94zm-11 1L8.5 8.5l.94-2.06 2.06-.94-2.06-.94L8.5 2.5l-.94 2.06-2.06.94zm10 10l.94 2.06.94-2.06 2.06-.94-2.06-.94-.94-2.06-.94 2.06-2.06.94z\"/><path d=\"M17.41 7.96l-1.37-1.37c-.4-.4-.92-.59-1.43-.59-.52 0-1.04.2-1.43.59L10.3 9.45l-7.72 7.72c-.78.78-.78 2.05 0 2.83L4 21.41c.39.39.9.59 1.41.59.51 0 1.02-.2 1.41-.59l7.78-7.78 2.81-2.81c.8-.78.8-2.07 0-2.86zM5.41 20L4 18.59l7.72-7.72 1.47 1.35L5.41 20z\"/>\n",
              "  </svg>\n",
              "      </button>\n",
              "      \n",
              "  <style>\n",
              "    .colab-df-container {\n",
              "      display:flex;\n",
              "      flex-wrap:wrap;\n",
              "      gap: 12px;\n",
              "    }\n",
              "\n",
              "    .colab-df-convert {\n",
              "      background-color: #E8F0FE;\n",
              "      border: none;\n",
              "      border-radius: 50%;\n",
              "      cursor: pointer;\n",
              "      display: none;\n",
              "      fill: #1967D2;\n",
              "      height: 32px;\n",
              "      padding: 0 0 0 0;\n",
              "      width: 32px;\n",
              "    }\n",
              "\n",
              "    .colab-df-convert:hover {\n",
              "      background-color: #E2EBFA;\n",
              "      box-shadow: 0px 1px 2px rgba(60, 64, 67, 0.3), 0px 1px 3px 1px rgba(60, 64, 67, 0.15);\n",
              "      fill: #174EA6;\n",
              "    }\n",
              "\n",
              "    [theme=dark] .colab-df-convert {\n",
              "      background-color: #3B4455;\n",
              "      fill: #D2E3FC;\n",
              "    }\n",
              "\n",
              "    [theme=dark] .colab-df-convert:hover {\n",
              "      background-color: #434B5C;\n",
              "      box-shadow: 0px 1px 3px 1px rgba(0, 0, 0, 0.15);\n",
              "      filter: drop-shadow(0px 1px 2px rgba(0, 0, 0, 0.3));\n",
              "      fill: #FFFFFF;\n",
              "    }\n",
              "  </style>\n",
              "\n",
              "      <script>\n",
              "        const buttonEl =\n",
              "          document.querySelector('#df-51fcf857-0fce-47b5-98d4-2b47c2340df7 button.colab-df-convert');\n",
              "        buttonEl.style.display =\n",
              "          google.colab.kernel.accessAllowed ? 'block' : 'none';\n",
              "\n",
              "        async function convertToInteractive(key) {\n",
              "          const element = document.querySelector('#df-51fcf857-0fce-47b5-98d4-2b47c2340df7');\n",
              "          const dataTable =\n",
              "            await google.colab.kernel.invokeFunction('convertToInteractive',\n",
              "                                                     [key], {});\n",
              "          if (!dataTable) return;\n",
              "\n",
              "          const docLinkHtml = 'Like what you see? Visit the ' +\n",
              "            '<a target=\"_blank\" href=https://colab.research.google.com/notebooks/data_table.ipynb>data table notebook</a>'\n",
              "            + ' to learn more about interactive tables.';\n",
              "          element.innerHTML = '';\n",
              "          dataTable['output_type'] = 'display_data';\n",
              "          await google.colab.output.renderOutput(dataTable, element);\n",
              "          const docLink = document.createElement('div');\n",
              "          docLink.innerHTML = docLinkHtml;\n",
              "          element.appendChild(docLink);\n",
              "        }\n",
              "      </script>\n",
              "    </div>\n",
              "  </div>\n",
              "  "
            ],
            "text/plain": [
              "                                                ФОИВ  ...   cnt_5\n",
              "1  Главное управление потребительского рынка и ли...  ...     2.0\n",
              "2  Департамент здравоохранения Ямало-Ненецкого ав...  ...     0.0\n",
              "3  Департамент социальной защиты населения Ямало-...  ...  2538.0\n",
              "4  Служба записи актов гражданского состояния Яма...  ...   649.0\n",
              "5  Департамент здравоохранения Ямало-Ненецкого ав...  ...     2.0\n",
              "\n",
              "[5 rows x 13 columns]"
            ]
          },
          "metadata": {},
          "execution_count": 16
        }
      ]
    },
    {
      "cell_type": "markdown",
      "source": [
        "Также удалось заметить, что оценки не везде соответствуют сумме оценок по баллам"
      ],
      "metadata": {
        "id": "WqqklMzLMppm"
      }
    },
    {
      "cell_type": "markdown",
      "source": [
        "Является ли это просто ошибкой или накруткой - неизвестно, но в любом случае такие строки тоже нужно убрать"
      ],
      "metadata": {
        "id": "h3EWZzUHM3BH"
      }
    },
    {
      "cell_type": "code",
      "source": [
        "df = df[df['Оценки'] == df['cnt_1'] + df['cnt_2'] + df['cnt_3'] + df['cnt_4'] + df['cnt_5']]\n",
        "df.head()"
      ],
      "metadata": {
        "colab": {
          "base_uri": "https://localhost:8080/",
          "height": 441
        },
        "id": "9io5ZU2nMEwY",
        "outputId": "fd4c1dca-0dcb-49da-a269-55f61528d8f8"
      },
      "execution_count": null,
      "outputs": [
        {
          "output_type": "execute_result",
          "data": {
            "text/html": [
              "\n",
              "  <div id=\"df-1626479d-156b-4600-afa7-efacaef3f1c4\">\n",
              "    <div class=\"colab-df-container\">\n",
              "      <div>\n",
              "<style scoped>\n",
              "    .dataframe tbody tr th:only-of-type {\n",
              "        vertical-align: middle;\n",
              "    }\n",
              "\n",
              "    .dataframe tbody tr th {\n",
              "        vertical-align: top;\n",
              "    }\n",
              "\n",
              "    .dataframe thead th {\n",
              "        text-align: right;\n",
              "    }\n",
              "</style>\n",
              "<table border=\"1\" class=\"dataframe\">\n",
              "  <thead>\n",
              "    <tr style=\"text-align: right;\">\n",
              "      <th></th>\n",
              "      <th>ФОИВ</th>\n",
              "      <th>Код ТО ФОИВ</th>\n",
              "      <th>ТО ФОИВ</th>\n",
              "      <th>Уод услуги</th>\n",
              "      <th>Услуга</th>\n",
              "      <th>Факты</th>\n",
              "      <th>Оценки</th>\n",
              "      <th>Уровень удовлетворенности</th>\n",
              "      <th>cnt_1</th>\n",
              "      <th>cnt_2</th>\n",
              "      <th>cnt_3</th>\n",
              "      <th>cnt_4</th>\n",
              "      <th>cnt_5</th>\n",
              "    </tr>\n",
              "  </thead>\n",
              "  <tbody>\n",
              "    <tr>\n",
              "      <th>2</th>\n",
              "      <td>Департамент здравоохранения Ямало-Ненецкого ав...</td>\n",
              "      <td>8900000000000003078</td>\n",
              "      <td>Департамент здравоохранения Ямало-Ненецкого ав...</td>\n",
              "      <td>8900400000000002972</td>\n",
              "      <td>Запись на прием к врачу в медицинскую организа...</td>\n",
              "      <td>3.0</td>\n",
              "      <td>15.0</td>\n",
              "      <td>6,67%</td>\n",
              "      <td>12.0</td>\n",
              "      <td>2.0</td>\n",
              "      <td>0.0</td>\n",
              "      <td>1.0</td>\n",
              "      <td>0.0</td>\n",
              "    </tr>\n",
              "    <tr>\n",
              "      <th>3</th>\n",
              "      <td>Департамент социальной защиты населения Ямало-...</td>\n",
              "      <td>8900000000000003124</td>\n",
              "      <td>Департамент социальной защиты населения Ямало-...</td>\n",
              "      <td>8900000010000025881</td>\n",
              "      <td>Выплата средств (части средств) материнского (...</td>\n",
              "      <td>514.0</td>\n",
              "      <td>2717.0</td>\n",
              "      <td>95,99%</td>\n",
              "      <td>42.0</td>\n",
              "      <td>28.0</td>\n",
              "      <td>39.0</td>\n",
              "      <td>70.0</td>\n",
              "      <td>2538.0</td>\n",
              "    </tr>\n",
              "    <tr>\n",
              "      <th>4</th>\n",
              "      <td>Служба записи актов гражданского состояния Яма...</td>\n",
              "      <td>8900000010000003335</td>\n",
              "      <td>Служба записи актов гражданского состояния Яма...</td>\n",
              "      <td>8900000010000004597</td>\n",
              "      <td>Выдача повторных свидетельств о государственно...</td>\n",
              "      <td>123.0</td>\n",
              "      <td>655.0</td>\n",
              "      <td>100,00%</td>\n",
              "      <td>0.0</td>\n",
              "      <td>0.0</td>\n",
              "      <td>0.0</td>\n",
              "      <td>6.0</td>\n",
              "      <td>649.0</td>\n",
              "    </tr>\n",
              "    <tr>\n",
              "      <th>7</th>\n",
              "      <td>Департамент социальной защиты населения Ямало-...</td>\n",
              "      <td>8900000000000003124</td>\n",
              "      <td>Департамент социальной защиты населения Ямало-...</td>\n",
              "      <td>8900000010000002817</td>\n",
              "      <td>Предоставление гражданам субсидий на оплату жи...</td>\n",
              "      <td>1387.0</td>\n",
              "      <td>6897.0</td>\n",
              "      <td>96,90%</td>\n",
              "      <td>71.0</td>\n",
              "      <td>43.0</td>\n",
              "      <td>100.0</td>\n",
              "      <td>314.0</td>\n",
              "      <td>6369.0</td>\n",
              "    </tr>\n",
              "    <tr>\n",
              "      <th>8</th>\n",
              "      <td>Департамент социальной защиты населения Ямало-...</td>\n",
              "      <td>8900000000000003124</td>\n",
              "      <td>Департамент социальной защиты населения Ямало-...</td>\n",
              "      <td>8900000010000002652</td>\n",
              "      <td>Предоставление государственной социальной помо...</td>\n",
              "      <td>6539.0</td>\n",
              "      <td>33316.0</td>\n",
              "      <td>97,24%</td>\n",
              "      <td>359.0</td>\n",
              "      <td>163.0</td>\n",
              "      <td>397.0</td>\n",
              "      <td>1763.0</td>\n",
              "      <td>30634.0</td>\n",
              "    </tr>\n",
              "  </tbody>\n",
              "</table>\n",
              "</div>\n",
              "      <button class=\"colab-df-convert\" onclick=\"convertToInteractive('df-1626479d-156b-4600-afa7-efacaef3f1c4')\"\n",
              "              title=\"Convert this dataframe to an interactive table.\"\n",
              "              style=\"display:none;\">\n",
              "        \n",
              "  <svg xmlns=\"http://www.w3.org/2000/svg\" height=\"24px\"viewBox=\"0 0 24 24\"\n",
              "       width=\"24px\">\n",
              "    <path d=\"M0 0h24v24H0V0z\" fill=\"none\"/>\n",
              "    <path d=\"M18.56 5.44l.94 2.06.94-2.06 2.06-.94-2.06-.94-.94-2.06-.94 2.06-2.06.94zm-11 1L8.5 8.5l.94-2.06 2.06-.94-2.06-.94L8.5 2.5l-.94 2.06-2.06.94zm10 10l.94 2.06.94-2.06 2.06-.94-2.06-.94-.94-2.06-.94 2.06-2.06.94z\"/><path d=\"M17.41 7.96l-1.37-1.37c-.4-.4-.92-.59-1.43-.59-.52 0-1.04.2-1.43.59L10.3 9.45l-7.72 7.72c-.78.78-.78 2.05 0 2.83L4 21.41c.39.39.9.59 1.41.59.51 0 1.02-.2 1.41-.59l7.78-7.78 2.81-2.81c.8-.78.8-2.07 0-2.86zM5.41 20L4 18.59l7.72-7.72 1.47 1.35L5.41 20z\"/>\n",
              "  </svg>\n",
              "      </button>\n",
              "      \n",
              "  <style>\n",
              "    .colab-df-container {\n",
              "      display:flex;\n",
              "      flex-wrap:wrap;\n",
              "      gap: 12px;\n",
              "    }\n",
              "\n",
              "    .colab-df-convert {\n",
              "      background-color: #E8F0FE;\n",
              "      border: none;\n",
              "      border-radius: 50%;\n",
              "      cursor: pointer;\n",
              "      display: none;\n",
              "      fill: #1967D2;\n",
              "      height: 32px;\n",
              "      padding: 0 0 0 0;\n",
              "      width: 32px;\n",
              "    }\n",
              "\n",
              "    .colab-df-convert:hover {\n",
              "      background-color: #E2EBFA;\n",
              "      box-shadow: 0px 1px 2px rgba(60, 64, 67, 0.3), 0px 1px 3px 1px rgba(60, 64, 67, 0.15);\n",
              "      fill: #174EA6;\n",
              "    }\n",
              "\n",
              "    [theme=dark] .colab-df-convert {\n",
              "      background-color: #3B4455;\n",
              "      fill: #D2E3FC;\n",
              "    }\n",
              "\n",
              "    [theme=dark] .colab-df-convert:hover {\n",
              "      background-color: #434B5C;\n",
              "      box-shadow: 0px 1px 3px 1px rgba(0, 0, 0, 0.15);\n",
              "      filter: drop-shadow(0px 1px 2px rgba(0, 0, 0, 0.3));\n",
              "      fill: #FFFFFF;\n",
              "    }\n",
              "  </style>\n",
              "\n",
              "      <script>\n",
              "        const buttonEl =\n",
              "          document.querySelector('#df-1626479d-156b-4600-afa7-efacaef3f1c4 button.colab-df-convert');\n",
              "        buttonEl.style.display =\n",
              "          google.colab.kernel.accessAllowed ? 'block' : 'none';\n",
              "\n",
              "        async function convertToInteractive(key) {\n",
              "          const element = document.querySelector('#df-1626479d-156b-4600-afa7-efacaef3f1c4');\n",
              "          const dataTable =\n",
              "            await google.colab.kernel.invokeFunction('convertToInteractive',\n",
              "                                                     [key], {});\n",
              "          if (!dataTable) return;\n",
              "\n",
              "          const docLinkHtml = 'Like what you see? Visit the ' +\n",
              "            '<a target=\"_blank\" href=https://colab.research.google.com/notebooks/data_table.ipynb>data table notebook</a>'\n",
              "            + ' to learn more about interactive tables.';\n",
              "          element.innerHTML = '';\n",
              "          dataTable['output_type'] = 'display_data';\n",
              "          await google.colab.output.renderOutput(dataTable, element);\n",
              "          const docLink = document.createElement('div');\n",
              "          docLink.innerHTML = docLinkHtml;\n",
              "          element.appendChild(docLink);\n",
              "        }\n",
              "      </script>\n",
              "    </div>\n",
              "  </div>\n",
              "  "
            ],
            "text/plain": [
              "                                                ФОИВ  ...    cnt_5\n",
              "2  Департамент здравоохранения Ямало-Ненецкого ав...  ...      0.0\n",
              "3  Департамент социальной защиты населения Ямало-...  ...   2538.0\n",
              "4  Служба записи актов гражданского состояния Яма...  ...    649.0\n",
              "7  Департамент социальной защиты населения Ямало-...  ...   6369.0\n",
              "8  Департамент социальной защиты населения Ямало-...  ...  30634.0\n",
              "\n",
              "[5 rows x 13 columns]"
            ]
          },
          "metadata": {},
          "execution_count": 17
        }
      ]
    },
    {
      "cell_type": "code",
      "source": [
        "df.info()"
      ],
      "metadata": {
        "colab": {
          "base_uri": "https://localhost:8080/"
        },
        "id": "K0Iwm0gFMHug",
        "outputId": "99f4b0ec-c737-4a45-c1d7-a57483d6dac5"
      },
      "execution_count": null,
      "outputs": [
        {
          "output_type": "stream",
          "name": "stdout",
          "text": [
            "<class 'pandas.core.frame.DataFrame'>\n",
            "Int64Index: 21228 entries, 2 to 48785\n",
            "Data columns (total 13 columns):\n",
            " #   Column                     Non-Null Count  Dtype  \n",
            "---  ------                     --------------  -----  \n",
            " 0   ФОИВ                       21228 non-null  object \n",
            " 1   Код ТО ФОИВ                21228 non-null  object \n",
            " 2   ТО ФОИВ                    21228 non-null  object \n",
            " 3   Уод услуги                 21228 non-null  object \n",
            " 4   Услуга                     21228 non-null  object \n",
            " 5   Факты                      21228 non-null  float64\n",
            " 6   Оценки                     21228 non-null  float64\n",
            " 7   Уровень удовлетворенности  21228 non-null  object \n",
            " 8   cnt_1                      21228 non-null  float64\n",
            " 9   cnt_2                      21228 non-null  float64\n",
            " 10  cnt_3                      21228 non-null  float64\n",
            " 11  cnt_4                      21228 non-null  float64\n",
            " 12  cnt_5                      21228 non-null  float64\n",
            "dtypes: float64(7), object(6)\n",
            "memory usage: 2.3+ MB\n"
          ]
        }
      ]
    },
    {
      "cell_type": "markdown",
      "source": [
        "Таким образом, по нашим расчетам, получился датасет без накруток\n"
      ],
      "metadata": {
        "id": "LqnM8S90WqqT"
      }
    },
    {
      "cell_type": "markdown",
      "source": [
        "Скачаем его, чтобы посторить диаграммы общей статистики теперь для данных без накрутки для сравнения с исходными данными"
      ],
      "metadata": {
        "id": "S-cHu7lKXMT2"
      }
    },
    {
      "cell_type": "code",
      "source": [
        "from google.colab import files\n",
        "df.to_excel('new_df.xlsx')\n",
        "files.download('new_df.xlsx')"
      ],
      "metadata": {
        "id": "wFyFL66QYCsW",
        "colab": {
          "base_uri": "https://localhost:8080/",
          "height": 17
        },
        "outputId": "ee67add1-55b3-4383-ed13-eae01851633a"
      },
      "execution_count": null,
      "outputs": [
        {
          "output_type": "display_data",
          "data": {
            "application/javascript": [
              "\n",
              "    async function download(id, filename, size) {\n",
              "      if (!google.colab.kernel.accessAllowed) {\n",
              "        return;\n",
              "      }\n",
              "      const div = document.createElement('div');\n",
              "      const label = document.createElement('label');\n",
              "      label.textContent = `Downloading \"${filename}\": `;\n",
              "      div.appendChild(label);\n",
              "      const progress = document.createElement('progress');\n",
              "      progress.max = size;\n",
              "      div.appendChild(progress);\n",
              "      document.body.appendChild(div);\n",
              "\n",
              "      const buffers = [];\n",
              "      let downloaded = 0;\n",
              "\n",
              "      const channel = await google.colab.kernel.comms.open(id);\n",
              "      // Send a message to notify the kernel that we're ready.\n",
              "      channel.send({})\n",
              "\n",
              "      for await (const message of channel.messages) {\n",
              "        // Send a message to notify the kernel that we're ready.\n",
              "        channel.send({})\n",
              "        if (message.buffers) {\n",
              "          for (const buffer of message.buffers) {\n",
              "            buffers.push(buffer);\n",
              "            downloaded += buffer.byteLength;\n",
              "            progress.value = downloaded;\n",
              "          }\n",
              "        }\n",
              "      }\n",
              "      const blob = new Blob(buffers, {type: 'application/binary'});\n",
              "      const a = document.createElement('a');\n",
              "      a.href = window.URL.createObjectURL(blob);\n",
              "      a.download = filename;\n",
              "      div.appendChild(a);\n",
              "      a.click();\n",
              "      div.remove();\n",
              "    }\n",
              "  "
            ],
            "text/plain": [
              "<IPython.core.display.Javascript object>"
            ]
          },
          "metadata": {}
        },
        {
          "output_type": "display_data",
          "data": {
            "application/javascript": [
              "download(\"download_53505848-afee-4fac-9d18-1cd28d6d3977\", \"new_df.xlsx\", 1866582)"
            ],
            "text/plain": [
              "<IPython.core.display.Javascript object>"
            ]
          },
          "metadata": {}
        }
      ]
    },
    {
      "cell_type": "markdown",
      "source": [
        "https://datastudio.google.com/u/0/reporting/cfd316ca-a58d-40c2-96f7-5c2b7c1ecb77/page/ANghC - диаграммы здесь"
      ],
      "metadata": {
        "id": "seRhlkbHXm-y"
      }
    }
  ]
}